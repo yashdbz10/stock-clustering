{
 "cells": [
  {
   "cell_type": "code",
   "execution_count": 1,
   "metadata": {},
   "outputs": [],
   "source": [
    "import pandas as pd\n",
    "import numpy as np\n",
    "import matplotlib.pyplot as plt\n",
    "from mpl_toolkits.mplot3d import Axes3D\n",
    "from sklearn import decomposition\n",
    "from sklearn import datasets\n",
    "import seaborn as sns\n",
    "from sklearn.decomposition import PCA\n",
    "from sklearn.cluster import KMeans\n",
    "%matplotlib inline"
   ]
  },
  {
   "cell_type": "code",
   "execution_count": 2,
   "metadata": {},
   "outputs": [
    {
     "data": {
      "text/html": [
       "<div>\n",
       "<style scoped>\n",
       "    .dataframe tbody tr th:only-of-type {\n",
       "        vertical-align: middle;\n",
       "    }\n",
       "\n",
       "    .dataframe tbody tr th {\n",
       "        vertical-align: top;\n",
       "    }\n",
       "\n",
       "    .dataframe thead th {\n",
       "        text-align: right;\n",
       "    }\n",
       "</style>\n",
       "<table border=\"1\" class=\"dataframe\">\n",
       "  <thead>\n",
       "    <tr style=\"text-align: right;\">\n",
       "      <th></th>\n",
       "      <th>DATE</th>\n",
       "      <th>SP500</th>\n",
       "      <th>NASDAQ.AAL</th>\n",
       "      <th>NASDAQ.AAPL</th>\n",
       "      <th>NASDAQ.ADBE</th>\n",
       "      <th>NASDAQ.ADI</th>\n",
       "      <th>NASDAQ.ADP</th>\n",
       "      <th>NASDAQ.ADSK</th>\n",
       "      <th>NASDAQ.AKAM</th>\n",
       "      <th>NASDAQ.ALXN</th>\n",
       "      <th>...</th>\n",
       "      <th>NYSE.WYN</th>\n",
       "      <th>NYSE.XEC</th>\n",
       "      <th>NYSE.XEL</th>\n",
       "      <th>NYSE.XL</th>\n",
       "      <th>NYSE.XOM</th>\n",
       "      <th>NYSE.XRX</th>\n",
       "      <th>NYSE.XYL</th>\n",
       "      <th>NYSE.YUM</th>\n",
       "      <th>NYSE.ZBH</th>\n",
       "      <th>NYSE.ZTS</th>\n",
       "    </tr>\n",
       "  </thead>\n",
       "  <tbody>\n",
       "    <tr>\n",
       "      <th>0</th>\n",
       "      <td>1491226200</td>\n",
       "      <td>2363.6101</td>\n",
       "      <td>42.3300</td>\n",
       "      <td>143.6800</td>\n",
       "      <td>129.6300</td>\n",
       "      <td>82.040</td>\n",
       "      <td>102.2300</td>\n",
       "      <td>85.2200</td>\n",
       "      <td>59.760</td>\n",
       "      <td>121.52</td>\n",
       "      <td>...</td>\n",
       "      <td>84.370</td>\n",
       "      <td>119.035</td>\n",
       "      <td>44.40</td>\n",
       "      <td>39.88</td>\n",
       "      <td>82.03</td>\n",
       "      <td>7.36</td>\n",
       "      <td>50.22</td>\n",
       "      <td>63.86</td>\n",
       "      <td>122.000</td>\n",
       "      <td>53.350</td>\n",
       "    </tr>\n",
       "    <tr>\n",
       "      <th>1</th>\n",
       "      <td>1491226260</td>\n",
       "      <td>2364.1001</td>\n",
       "      <td>42.3600</td>\n",
       "      <td>143.7000</td>\n",
       "      <td>130.3200</td>\n",
       "      <td>82.080</td>\n",
       "      <td>102.1400</td>\n",
       "      <td>85.6500</td>\n",
       "      <td>59.840</td>\n",
       "      <td>121.48</td>\n",
       "      <td>...</td>\n",
       "      <td>84.370</td>\n",
       "      <td>119.035</td>\n",
       "      <td>44.11</td>\n",
       "      <td>39.88</td>\n",
       "      <td>82.03</td>\n",
       "      <td>7.38</td>\n",
       "      <td>50.22</td>\n",
       "      <td>63.74</td>\n",
       "      <td>121.770</td>\n",
       "      <td>53.350</td>\n",
       "    </tr>\n",
       "    <tr>\n",
       "      <th>2</th>\n",
       "      <td>1491226320</td>\n",
       "      <td>2362.6799</td>\n",
       "      <td>42.3100</td>\n",
       "      <td>143.6901</td>\n",
       "      <td>130.2250</td>\n",
       "      <td>82.030</td>\n",
       "      <td>102.2125</td>\n",
       "      <td>85.5100</td>\n",
       "      <td>59.795</td>\n",
       "      <td>121.93</td>\n",
       "      <td>...</td>\n",
       "      <td>84.585</td>\n",
       "      <td>119.260</td>\n",
       "      <td>44.09</td>\n",
       "      <td>39.98</td>\n",
       "      <td>82.02</td>\n",
       "      <td>7.36</td>\n",
       "      <td>50.12</td>\n",
       "      <td>63.75</td>\n",
       "      <td>121.700</td>\n",
       "      <td>53.365</td>\n",
       "    </tr>\n",
       "    <tr>\n",
       "      <th>3</th>\n",
       "      <td>1491226380</td>\n",
       "      <td>2364.3101</td>\n",
       "      <td>42.3700</td>\n",
       "      <td>143.6400</td>\n",
       "      <td>130.0729</td>\n",
       "      <td>82.000</td>\n",
       "      <td>102.1400</td>\n",
       "      <td>85.4872</td>\n",
       "      <td>59.620</td>\n",
       "      <td>121.44</td>\n",
       "      <td>...</td>\n",
       "      <td>84.460</td>\n",
       "      <td>119.260</td>\n",
       "      <td>44.25</td>\n",
       "      <td>39.99</td>\n",
       "      <td>82.02</td>\n",
       "      <td>7.35</td>\n",
       "      <td>50.16</td>\n",
       "      <td>63.88</td>\n",
       "      <td>121.700</td>\n",
       "      <td>53.380</td>\n",
       "    </tr>\n",
       "    <tr>\n",
       "      <th>4</th>\n",
       "      <td>1491226440</td>\n",
       "      <td>2364.8501</td>\n",
       "      <td>42.5378</td>\n",
       "      <td>143.6600</td>\n",
       "      <td>129.8800</td>\n",
       "      <td>82.035</td>\n",
       "      <td>102.0600</td>\n",
       "      <td>85.7001</td>\n",
       "      <td>59.620</td>\n",
       "      <td>121.60</td>\n",
       "      <td>...</td>\n",
       "      <td>84.470</td>\n",
       "      <td>119.610</td>\n",
       "      <td>44.11</td>\n",
       "      <td>39.96</td>\n",
       "      <td>82.03</td>\n",
       "      <td>7.36</td>\n",
       "      <td>50.20</td>\n",
       "      <td>63.91</td>\n",
       "      <td>121.695</td>\n",
       "      <td>53.240</td>\n",
       "    </tr>\n",
       "  </tbody>\n",
       "</table>\n",
       "<p>5 rows × 502 columns</p>\n",
       "</div>"
      ],
      "text/plain": [
       "         DATE      SP500  NASDAQ.AAL  NASDAQ.AAPL  NASDAQ.ADBE  NASDAQ.ADI  \\\n",
       "0  1491226200  2363.6101     42.3300     143.6800     129.6300      82.040   \n",
       "1  1491226260  2364.1001     42.3600     143.7000     130.3200      82.080   \n",
       "2  1491226320  2362.6799     42.3100     143.6901     130.2250      82.030   \n",
       "3  1491226380  2364.3101     42.3700     143.6400     130.0729      82.000   \n",
       "4  1491226440  2364.8501     42.5378     143.6600     129.8800      82.035   \n",
       "\n",
       "   NASDAQ.ADP  NASDAQ.ADSK  NASDAQ.AKAM  NASDAQ.ALXN  ...  NYSE.WYN  NYSE.XEC  \\\n",
       "0    102.2300      85.2200       59.760       121.52  ...    84.370   119.035   \n",
       "1    102.1400      85.6500       59.840       121.48  ...    84.370   119.035   \n",
       "2    102.2125      85.5100       59.795       121.93  ...    84.585   119.260   \n",
       "3    102.1400      85.4872       59.620       121.44  ...    84.460   119.260   \n",
       "4    102.0600      85.7001       59.620       121.60  ...    84.470   119.610   \n",
       "\n",
       "   NYSE.XEL  NYSE.XL  NYSE.XOM  NYSE.XRX  NYSE.XYL  NYSE.YUM  NYSE.ZBH  \\\n",
       "0     44.40    39.88     82.03      7.36     50.22     63.86   122.000   \n",
       "1     44.11    39.88     82.03      7.38     50.22     63.74   121.770   \n",
       "2     44.09    39.98     82.02      7.36     50.12     63.75   121.700   \n",
       "3     44.25    39.99     82.02      7.35     50.16     63.88   121.700   \n",
       "4     44.11    39.96     82.03      7.36     50.20     63.91   121.695   \n",
       "\n",
       "   NYSE.ZTS  \n",
       "0    53.350  \n",
       "1    53.350  \n",
       "2    53.365  \n",
       "3    53.380  \n",
       "4    53.240  \n",
       "\n",
       "[5 rows x 502 columns]"
      ]
     },
     "execution_count": 2,
     "metadata": {},
     "output_type": "execute_result"
    }
   ],
   "source": [
    "data = pd.read_csv('data_stocks.csv')\n",
    "data.head()"
   ]
  },
  {
   "cell_type": "code",
   "execution_count": 3,
   "metadata": {},
   "outputs": [
    {
     "name": "stdout",
     "output_type": "stream",
     "text": [
      "<class 'pandas.core.frame.DataFrame'>\n",
      "RangeIndex: 41266 entries, 0 to 41265\n",
      "Columns: 502 entries, DATE to NYSE.ZTS\n",
      "dtypes: float64(501), int64(1)\n",
      "memory usage: 158.0 MB\n"
     ]
    }
   ],
   "source": [
    "data.info()"
   ]
  },
  {
   "cell_type": "code",
   "execution_count": 4,
   "metadata": {},
   "outputs": [
    {
     "data": {
      "text/plain": [
       "DATE           0\n",
       "SP500          0\n",
       "NASDAQ.AAL     0\n",
       "NASDAQ.AAPL    0\n",
       "NASDAQ.ADBE    0\n",
       "              ..\n",
       "NYSE.XRX       0\n",
       "NYSE.XYL       0\n",
       "NYSE.YUM       0\n",
       "NYSE.ZBH       0\n",
       "NYSE.ZTS       0\n",
       "Length: 502, dtype: int64"
      ]
     },
     "execution_count": 4,
     "metadata": {},
     "output_type": "execute_result"
    }
   ],
   "source": [
    "data.isnull().sum()"
   ]
  },
  {
   "cell_type": "code",
   "execution_count": 5,
   "metadata": {},
   "outputs": [
    {
     "data": {
      "text/html": [
       "<div>\n",
       "<style scoped>\n",
       "    .dataframe tbody tr th:only-of-type {\n",
       "        vertical-align: middle;\n",
       "    }\n",
       "\n",
       "    .dataframe tbody tr th {\n",
       "        vertical-align: top;\n",
       "    }\n",
       "\n",
       "    .dataframe thead th {\n",
       "        text-align: right;\n",
       "    }\n",
       "</style>\n",
       "<table border=\"1\" class=\"dataframe\">\n",
       "  <thead>\n",
       "    <tr style=\"text-align: right;\">\n",
       "      <th></th>\n",
       "      <th>DATE</th>\n",
       "      <th>SP500</th>\n",
       "      <th>NASDAQ.AAL</th>\n",
       "      <th>NASDAQ.AAPL</th>\n",
       "      <th>NASDAQ.ADBE</th>\n",
       "      <th>NASDAQ.ADI</th>\n",
       "      <th>NASDAQ.ADP</th>\n",
       "      <th>NASDAQ.ADSK</th>\n",
       "      <th>NASDAQ.AKAM</th>\n",
       "      <th>NASDAQ.ALXN</th>\n",
       "      <th>...</th>\n",
       "      <th>NYSE.WYN</th>\n",
       "      <th>NYSE.XEC</th>\n",
       "      <th>NYSE.XEL</th>\n",
       "      <th>NYSE.XL</th>\n",
       "      <th>NYSE.XOM</th>\n",
       "      <th>NYSE.XRX</th>\n",
       "      <th>NYSE.XYL</th>\n",
       "      <th>NYSE.YUM</th>\n",
       "      <th>NYSE.ZBH</th>\n",
       "      <th>NYSE.ZTS</th>\n",
       "    </tr>\n",
       "  </thead>\n",
       "  <tbody>\n",
       "    <tr>\n",
       "      <th>count</th>\n",
       "      <td>4.126600e+04</td>\n",
       "      <td>41266.000000</td>\n",
       "      <td>41266.000000</td>\n",
       "      <td>41266.000000</td>\n",
       "      <td>41266.00000</td>\n",
       "      <td>41266.000000</td>\n",
       "      <td>41266.000000</td>\n",
       "      <td>41266.000000</td>\n",
       "      <td>41266.000000</td>\n",
       "      <td>41266.000000</td>\n",
       "      <td>...</td>\n",
       "      <td>41266.000000</td>\n",
       "      <td>41266.000000</td>\n",
       "      <td>41266.000000</td>\n",
       "      <td>41266.000000</td>\n",
       "      <td>41266.000000</td>\n",
       "      <td>41266.000000</td>\n",
       "      <td>41266.000000</td>\n",
       "      <td>41266.000000</td>\n",
       "      <td>41266.000000</td>\n",
       "      <td>41266.000000</td>\n",
       "    </tr>\n",
       "    <tr>\n",
       "      <th>mean</th>\n",
       "      <td>1.497749e+09</td>\n",
       "      <td>2421.537882</td>\n",
       "      <td>47.708346</td>\n",
       "      <td>150.453566</td>\n",
       "      <td>141.31793</td>\n",
       "      <td>79.446873</td>\n",
       "      <td>103.480398</td>\n",
       "      <td>102.998608</td>\n",
       "      <td>50.894352</td>\n",
       "      <td>122.981163</td>\n",
       "      <td>...</td>\n",
       "      <td>97.942211</td>\n",
       "      <td>104.740666</td>\n",
       "      <td>46.664402</td>\n",
       "      <td>43.043984</td>\n",
       "      <td>80.784595</td>\n",
       "      <td>19.300718</td>\n",
       "      <td>54.541988</td>\n",
       "      <td>71.757891</td>\n",
       "      <td>121.423515</td>\n",
       "      <td>60.183874</td>\n",
       "    </tr>\n",
       "    <tr>\n",
       "      <th>std</th>\n",
       "      <td>3.822211e+06</td>\n",
       "      <td>39.557135</td>\n",
       "      <td>3.259377</td>\n",
       "      <td>6.236826</td>\n",
       "      <td>6.91674</td>\n",
       "      <td>2.000283</td>\n",
       "      <td>4.424244</td>\n",
       "      <td>9.389788</td>\n",
       "      <td>4.833931</td>\n",
       "      <td>11.252010</td>\n",
       "      <td>...</td>\n",
       "      <td>5.411795</td>\n",
       "      <td>10.606694</td>\n",
       "      <td>1.508444</td>\n",
       "      <td>1.714533</td>\n",
       "      <td>1.840989</td>\n",
       "      <td>11.686532</td>\n",
       "      <td>3.526321</td>\n",
       "      <td>4.038272</td>\n",
       "      <td>5.607070</td>\n",
       "      <td>3.346887</td>\n",
       "    </tr>\n",
       "    <tr>\n",
       "      <th>min</th>\n",
       "      <td>1.491226e+09</td>\n",
       "      <td>2329.139900</td>\n",
       "      <td>40.830000</td>\n",
       "      <td>140.160000</td>\n",
       "      <td>128.24000</td>\n",
       "      <td>74.800000</td>\n",
       "      <td>95.870000</td>\n",
       "      <td>83.000000</td>\n",
       "      <td>44.650000</td>\n",
       "      <td>96.250000</td>\n",
       "      <td>...</td>\n",
       "      <td>83.410000</td>\n",
       "      <td>89.510000</td>\n",
       "      <td>44.090000</td>\n",
       "      <td>39.120000</td>\n",
       "      <td>76.060000</td>\n",
       "      <td>6.660000</td>\n",
       "      <td>48.820000</td>\n",
       "      <td>63.180000</td>\n",
       "      <td>110.120000</td>\n",
       "      <td>52.300000</td>\n",
       "    </tr>\n",
       "    <tr>\n",
       "      <th>25%</th>\n",
       "      <td>1.494432e+09</td>\n",
       "      <td>2390.860100</td>\n",
       "      <td>44.945400</td>\n",
       "      <td>144.640000</td>\n",
       "      <td>135.19500</td>\n",
       "      <td>78.030000</td>\n",
       "      <td>101.300000</td>\n",
       "      <td>94.820000</td>\n",
       "      <td>47.440000</td>\n",
       "      <td>116.950000</td>\n",
       "      <td>...</td>\n",
       "      <td>95.960000</td>\n",
       "      <td>95.010000</td>\n",
       "      <td>45.155000</td>\n",
       "      <td>41.955000</td>\n",
       "      <td>80.220000</td>\n",
       "      <td>7.045000</td>\n",
       "      <td>51.630000</td>\n",
       "      <td>69.110000</td>\n",
       "      <td>117.580000</td>\n",
       "      <td>59.620000</td>\n",
       "    </tr>\n",
       "    <tr>\n",
       "      <th>50%</th>\n",
       "      <td>1.497638e+09</td>\n",
       "      <td>2430.149900</td>\n",
       "      <td>48.360000</td>\n",
       "      <td>149.945000</td>\n",
       "      <td>142.26000</td>\n",
       "      <td>79.410000</td>\n",
       "      <td>102.440000</td>\n",
       "      <td>106.820000</td>\n",
       "      <td>49.509900</td>\n",
       "      <td>123.620000</td>\n",
       "      <td>...</td>\n",
       "      <td>99.250000</td>\n",
       "      <td>99.660000</td>\n",
       "      <td>46.810000</td>\n",
       "      <td>43.200000</td>\n",
       "      <td>81.150000</td>\n",
       "      <td>27.890000</td>\n",
       "      <td>53.850000</td>\n",
       "      <td>73.470000</td>\n",
       "      <td>120.650000</td>\n",
       "      <td>61.585600</td>\n",
       "    </tr>\n",
       "    <tr>\n",
       "      <th>75%</th>\n",
       "      <td>1.501090e+09</td>\n",
       "      <td>2448.820100</td>\n",
       "      <td>50.180000</td>\n",
       "      <td>155.065000</td>\n",
       "      <td>147.10000</td>\n",
       "      <td>80.580000</td>\n",
       "      <td>104.660000</td>\n",
       "      <td>110.490000</td>\n",
       "      <td>52.230000</td>\n",
       "      <td>132.218800</td>\n",
       "      <td>...</td>\n",
       "      <td>102.080000</td>\n",
       "      <td>117.034700</td>\n",
       "      <td>47.730000</td>\n",
       "      <td>44.370000</td>\n",
       "      <td>82.062050</td>\n",
       "      <td>30.470000</td>\n",
       "      <td>57.140000</td>\n",
       "      <td>74.750000</td>\n",
       "      <td>126.000000</td>\n",
       "      <td>62.540000</td>\n",
       "    </tr>\n",
       "    <tr>\n",
       "      <th>max</th>\n",
       "      <td>1.504210e+09</td>\n",
       "      <td>2490.649900</td>\n",
       "      <td>54.475000</td>\n",
       "      <td>164.510000</td>\n",
       "      <td>155.33000</td>\n",
       "      <td>90.440000</td>\n",
       "      <td>121.770000</td>\n",
       "      <td>119.270000</td>\n",
       "      <td>62.560000</td>\n",
       "      <td>142.875000</td>\n",
       "      <td>...</td>\n",
       "      <td>106.375000</td>\n",
       "      <td>123.870000</td>\n",
       "      <td>49.660000</td>\n",
       "      <td>47.210000</td>\n",
       "      <td>83.630000</td>\n",
       "      <td>32.930000</td>\n",
       "      <td>62.130000</td>\n",
       "      <td>77.120000</td>\n",
       "      <td>133.450000</td>\n",
       "      <td>63.840000</td>\n",
       "    </tr>\n",
       "  </tbody>\n",
       "</table>\n",
       "<p>8 rows × 502 columns</p>\n",
       "</div>"
      ],
      "text/plain": [
       "               DATE         SP500    NASDAQ.AAL   NASDAQ.AAPL  NASDAQ.ADBE  \\\n",
       "count  4.126600e+04  41266.000000  41266.000000  41266.000000  41266.00000   \n",
       "mean   1.497749e+09   2421.537882     47.708346    150.453566    141.31793   \n",
       "std    3.822211e+06     39.557135      3.259377      6.236826      6.91674   \n",
       "min    1.491226e+09   2329.139900     40.830000    140.160000    128.24000   \n",
       "25%    1.494432e+09   2390.860100     44.945400    144.640000    135.19500   \n",
       "50%    1.497638e+09   2430.149900     48.360000    149.945000    142.26000   \n",
       "75%    1.501090e+09   2448.820100     50.180000    155.065000    147.10000   \n",
       "max    1.504210e+09   2490.649900     54.475000    164.510000    155.33000   \n",
       "\n",
       "         NASDAQ.ADI    NASDAQ.ADP   NASDAQ.ADSK   NASDAQ.AKAM   NASDAQ.ALXN  \\\n",
       "count  41266.000000  41266.000000  41266.000000  41266.000000  41266.000000   \n",
       "mean      79.446873    103.480398    102.998608     50.894352    122.981163   \n",
       "std        2.000283      4.424244      9.389788      4.833931     11.252010   \n",
       "min       74.800000     95.870000     83.000000     44.650000     96.250000   \n",
       "25%       78.030000    101.300000     94.820000     47.440000    116.950000   \n",
       "50%       79.410000    102.440000    106.820000     49.509900    123.620000   \n",
       "75%       80.580000    104.660000    110.490000     52.230000    132.218800   \n",
       "max       90.440000    121.770000    119.270000     62.560000    142.875000   \n",
       "\n",
       "       ...      NYSE.WYN      NYSE.XEC      NYSE.XEL       NYSE.XL  \\\n",
       "count  ...  41266.000000  41266.000000  41266.000000  41266.000000   \n",
       "mean   ...     97.942211    104.740666     46.664402     43.043984   \n",
       "std    ...      5.411795     10.606694      1.508444      1.714533   \n",
       "min    ...     83.410000     89.510000     44.090000     39.120000   \n",
       "25%    ...     95.960000     95.010000     45.155000     41.955000   \n",
       "50%    ...     99.250000     99.660000     46.810000     43.200000   \n",
       "75%    ...    102.080000    117.034700     47.730000     44.370000   \n",
       "max    ...    106.375000    123.870000     49.660000     47.210000   \n",
       "\n",
       "           NYSE.XOM      NYSE.XRX      NYSE.XYL      NYSE.YUM      NYSE.ZBH  \\\n",
       "count  41266.000000  41266.000000  41266.000000  41266.000000  41266.000000   \n",
       "mean      80.784595     19.300718     54.541988     71.757891    121.423515   \n",
       "std        1.840989     11.686532      3.526321      4.038272      5.607070   \n",
       "min       76.060000      6.660000     48.820000     63.180000    110.120000   \n",
       "25%       80.220000      7.045000     51.630000     69.110000    117.580000   \n",
       "50%       81.150000     27.890000     53.850000     73.470000    120.650000   \n",
       "75%       82.062050     30.470000     57.140000     74.750000    126.000000   \n",
       "max       83.630000     32.930000     62.130000     77.120000    133.450000   \n",
       "\n",
       "           NYSE.ZTS  \n",
       "count  41266.000000  \n",
       "mean      60.183874  \n",
       "std        3.346887  \n",
       "min       52.300000  \n",
       "25%       59.620000  \n",
       "50%       61.585600  \n",
       "75%       62.540000  \n",
       "max       63.840000  \n",
       "\n",
       "[8 rows x 502 columns]"
      ]
     },
     "execution_count": 5,
     "metadata": {},
     "output_type": "execute_result"
    }
   ],
   "source": [
    "data.describe()"
   ]
  },
  {
   "cell_type": "code",
   "execution_count": 6,
   "metadata": {},
   "outputs": [],
   "source": [
    "data.drop(['DATE', 'SP500'], axis=1,inplace=True)"
   ]
  },
  {
   "cell_type": "code",
   "execution_count": 7,
   "metadata": {},
   "outputs": [],
   "source": [
    "from sklearn.preprocessing import StandardScaler\n",
    "features = data.values\n",
    "sc = StandardScaler()\n",
    "X_scaled = sc.fit_transform(features)"
   ]
  },
  {
   "cell_type": "code",
   "execution_count": 8,
   "metadata": {},
   "outputs": [
    {
     "data": {
      "text/plain": [
       "(41266, 500)"
      ]
     },
     "execution_count": 8,
     "metadata": {},
     "output_type": "execute_result"
    }
   ],
   "source": [
    "X_scaled.shape"
   ]
  },
  {
   "cell_type": "code",
   "execution_count": 9,
   "metadata": {},
   "outputs": [],
   "source": [
    "df=pd.DataFrame(data=X_scaled, columns= data.columns)"
   ]
  },
  {
   "cell_type": "code",
   "execution_count": 10,
   "metadata": {},
   "outputs": [
    {
     "data": {
      "text/html": [
       "<div>\n",
       "<style scoped>\n",
       "    .dataframe tbody tr th:only-of-type {\n",
       "        vertical-align: middle;\n",
       "    }\n",
       "\n",
       "    .dataframe tbody tr th {\n",
       "        vertical-align: top;\n",
       "    }\n",
       "\n",
       "    .dataframe thead th {\n",
       "        text-align: right;\n",
       "    }\n",
       "</style>\n",
       "<table border=\"1\" class=\"dataframe\">\n",
       "  <thead>\n",
       "    <tr style=\"text-align: right;\">\n",
       "      <th></th>\n",
       "      <th>NASDAQ.AAL</th>\n",
       "      <th>NASDAQ.AAPL</th>\n",
       "      <th>NASDAQ.ADBE</th>\n",
       "      <th>NASDAQ.ADI</th>\n",
       "      <th>NASDAQ.ADP</th>\n",
       "      <th>NASDAQ.ADSK</th>\n",
       "      <th>NASDAQ.AKAM</th>\n",
       "      <th>NASDAQ.ALXN</th>\n",
       "      <th>NASDAQ.AMAT</th>\n",
       "      <th>NASDAQ.AMD</th>\n",
       "      <th>...</th>\n",
       "      <th>NYSE.WYN</th>\n",
       "      <th>NYSE.XEC</th>\n",
       "      <th>NYSE.XEL</th>\n",
       "      <th>NYSE.XL</th>\n",
       "      <th>NYSE.XOM</th>\n",
       "      <th>NYSE.XRX</th>\n",
       "      <th>NYSE.XYL</th>\n",
       "      <th>NYSE.YUM</th>\n",
       "      <th>NYSE.ZBH</th>\n",
       "      <th>NYSE.ZTS</th>\n",
       "    </tr>\n",
       "  </thead>\n",
       "  <tbody>\n",
       "    <tr>\n",
       "      <th>count</th>\n",
       "      <td>4.126600e+04</td>\n",
       "      <td>4.126600e+04</td>\n",
       "      <td>4.126600e+04</td>\n",
       "      <td>4.126600e+04</td>\n",
       "      <td>4.126600e+04</td>\n",
       "      <td>4.126600e+04</td>\n",
       "      <td>4.126600e+04</td>\n",
       "      <td>4.126600e+04</td>\n",
       "      <td>4.126600e+04</td>\n",
       "      <td>4.126600e+04</td>\n",
       "      <td>...</td>\n",
       "      <td>4.126600e+04</td>\n",
       "      <td>4.126600e+04</td>\n",
       "      <td>4.126600e+04</td>\n",
       "      <td>4.126600e+04</td>\n",
       "      <td>4.126600e+04</td>\n",
       "      <td>4.126600e+04</td>\n",
       "      <td>4.126600e+04</td>\n",
       "      <td>4.126600e+04</td>\n",
       "      <td>4.126600e+04</td>\n",
       "      <td>4.126600e+04</td>\n",
       "    </tr>\n",
       "    <tr>\n",
       "      <th>mean</th>\n",
       "      <td>-4.689617e-15</td>\n",
       "      <td>-2.399057e-15</td>\n",
       "      <td>-4.742648e-16</td>\n",
       "      <td>2.538097e-15</td>\n",
       "      <td>3.201236e-15</td>\n",
       "      <td>3.066089e-15</td>\n",
       "      <td>-5.115296e-15</td>\n",
       "      <td>1.369503e-15</td>\n",
       "      <td>-7.269529e-15</td>\n",
       "      <td>8.255821e-16</td>\n",
       "      <td>...</td>\n",
       "      <td>5.050638e-15</td>\n",
       "      <td>2.692168e-16</td>\n",
       "      <td>6.184760e-16</td>\n",
       "      <td>5.455821e-15</td>\n",
       "      <td>-3.959363e-15</td>\n",
       "      <td>-6.627374e-15</td>\n",
       "      <td>2.192412e-15</td>\n",
       "      <td>-4.732720e-15</td>\n",
       "      <td>3.360274e-15</td>\n",
       "      <td>2.275337e-14</td>\n",
       "    </tr>\n",
       "    <tr>\n",
       "      <th>std</th>\n",
       "      <td>1.000012e+00</td>\n",
       "      <td>1.000012e+00</td>\n",
       "      <td>1.000012e+00</td>\n",
       "      <td>1.000012e+00</td>\n",
       "      <td>1.000012e+00</td>\n",
       "      <td>1.000012e+00</td>\n",
       "      <td>1.000012e+00</td>\n",
       "      <td>1.000012e+00</td>\n",
       "      <td>1.000012e+00</td>\n",
       "      <td>1.000012e+00</td>\n",
       "      <td>...</td>\n",
       "      <td>1.000012e+00</td>\n",
       "      <td>1.000012e+00</td>\n",
       "      <td>1.000012e+00</td>\n",
       "      <td>1.000012e+00</td>\n",
       "      <td>1.000012e+00</td>\n",
       "      <td>1.000012e+00</td>\n",
       "      <td>1.000012e+00</td>\n",
       "      <td>1.000012e+00</td>\n",
       "      <td>1.000012e+00</td>\n",
       "      <td>1.000012e+00</td>\n",
       "    </tr>\n",
       "    <tr>\n",
       "      <th>min</th>\n",
       "      <td>-2.110351e+00</td>\n",
       "      <td>-1.650469e+00</td>\n",
       "      <td>-1.890788e+00</td>\n",
       "      <td>-2.323136e+00</td>\n",
       "      <td>-1.720179e+00</td>\n",
       "      <td>-2.129851e+00</td>\n",
       "      <td>-1.291791e+00</td>\n",
       "      <td>-2.375708e+00</td>\n",
       "      <td>-2.381811e+00</td>\n",
       "      <td>-2.347862e+00</td>\n",
       "      <td>...</td>\n",
       "      <td>-2.685318e+00</td>\n",
       "      <td>-1.435966e+00</td>\n",
       "      <td>-1.706681e+00</td>\n",
       "      <td>-2.288689e+00</td>\n",
       "      <td>-2.566367e+00</td>\n",
       "      <td>-1.081661e+00</td>\n",
       "      <td>-1.622671e+00</td>\n",
       "      <td>-2.124175e+00</td>\n",
       "      <td>-2.015964e+00</td>\n",
       "      <td>-2.355612e+00</td>\n",
       "    </tr>\n",
       "    <tr>\n",
       "      <th>25%</th>\n",
       "      <td>-8.477015e-01</td>\n",
       "      <td>-9.321467e-01</td>\n",
       "      <td>-8.852442e-01</td>\n",
       "      <td>-7.083451e-01</td>\n",
       "      <td>-4.928355e-01</td>\n",
       "      <td>-8.710215e-01</td>\n",
       "      <td>-7.146138e-01</td>\n",
       "      <td>-5.360141e-01</td>\n",
       "      <td>-6.542592e-01</td>\n",
       "      <td>-6.391139e-01</td>\n",
       "      <td>...</td>\n",
       "      <td>-3.662806e-01</td>\n",
       "      <td>-9.174191e-01</td>\n",
       "      <td>-1.000647e+00</td>\n",
       "      <td>-6.351569e-01</td>\n",
       "      <td>-3.066839e-01</td>\n",
       "      <td>-1.048717e+00</td>\n",
       "      <td>-8.257965e-01</td>\n",
       "      <td>-6.557069e-01</td>\n",
       "      <td>-6.854849e-01</td>\n",
       "      <td>-1.684791e-01</td>\n",
       "    </tr>\n",
       "    <tr>\n",
       "      <th>50%</th>\n",
       "      <td>1.999345e-01</td>\n",
       "      <td>-8.154339e-02</td>\n",
       "      <td>1.362031e-01</td>\n",
       "      <td>-1.843426e-02</td>\n",
       "      <td>-2.351612e-01</td>\n",
       "      <td>4.069781e-01</td>\n",
       "      <td>-2.864064e-01</td>\n",
       "      <td>5.677605e-02</td>\n",
       "      <td>1.462137e-01</td>\n",
       "      <td>1.326443e-01</td>\n",
       "      <td>...</td>\n",
       "      <td>2.416582e-01</td>\n",
       "      <td>-4.790114e-01</td>\n",
       "      <td>9.652339e-02</td>\n",
       "      <td>9.099726e-02</td>\n",
       "      <td>1.984856e-01</td>\n",
       "      <td>7.349816e-01</td>\n",
       "      <td>-1.962375e-01</td>\n",
       "      <td>4.239759e-01</td>\n",
       "      <td>-1.379552e-01</td>\n",
       "      <td>4.188199e-01</td>\n",
       "    </tr>\n",
       "    <tr>\n",
       "      <th>75%</th>\n",
       "      <td>7.583301e-01</td>\n",
       "      <td>7.393970e-01</td>\n",
       "      <td>8.359633e-01</td>\n",
       "      <td>5.664901e-01</td>\n",
       "      <td>2.666255e-01</td>\n",
       "      <td>7.978329e-01</td>\n",
       "      <td>2.763101e-01</td>\n",
       "      <td>8.209866e-01</td>\n",
       "      <td>6.710136e-01</td>\n",
       "      <td>7.210079e-01</td>\n",
       "      <td>...</td>\n",
       "      <td>7.645964e-01</td>\n",
       "      <td>1.159097e+00</td>\n",
       "      <td>7.064308e-01</td>\n",
       "      <td>7.734072e-01</td>\n",
       "      <td>6.939047e-01</td>\n",
       "      <td>9.557512e-01</td>\n",
       "      <td>7.367575e-01</td>\n",
       "      <td>7.409470e-01</td>\n",
       "      <td>8.162089e-01</td>\n",
       "      <td>7.039839e-01</td>\n",
       "    </tr>\n",
       "    <tr>\n",
       "      <th>max</th>\n",
       "      <td>2.076082e+00</td>\n",
       "      <td>2.253808e+00</td>\n",
       "      <td>2.025845e+00</td>\n",
       "      <td>5.495853e+00</td>\n",
       "      <td>4.133999e+00</td>\n",
       "      <td>1.732903e+00</td>\n",
       "      <td>2.413313e+00</td>\n",
       "      <td>1.768047e+00</td>\n",
       "      <td>1.853345e+00</td>\n",
       "      <td>2.579896e+00</td>\n",
       "      <td>...</td>\n",
       "      <td>1.558243e+00</td>\n",
       "      <td>1.803537e+00</td>\n",
       "      <td>1.985911e+00</td>\n",
       "      <td>2.429855e+00</td>\n",
       "      <td>1.545604e+00</td>\n",
       "      <td>1.166252e+00</td>\n",
       "      <td>2.151847e+00</td>\n",
       "      <td>1.327839e+00</td>\n",
       "      <td>2.144905e+00</td>\n",
       "      <td>1.092409e+00</td>\n",
       "    </tr>\n",
       "  </tbody>\n",
       "</table>\n",
       "<p>8 rows × 500 columns</p>\n",
       "</div>"
      ],
      "text/plain": [
       "         NASDAQ.AAL   NASDAQ.AAPL   NASDAQ.ADBE    NASDAQ.ADI    NASDAQ.ADP  \\\n",
       "count  4.126600e+04  4.126600e+04  4.126600e+04  4.126600e+04  4.126600e+04   \n",
       "mean  -4.689617e-15 -2.399057e-15 -4.742648e-16  2.538097e-15  3.201236e-15   \n",
       "std    1.000012e+00  1.000012e+00  1.000012e+00  1.000012e+00  1.000012e+00   \n",
       "min   -2.110351e+00 -1.650469e+00 -1.890788e+00 -2.323136e+00 -1.720179e+00   \n",
       "25%   -8.477015e-01 -9.321467e-01 -8.852442e-01 -7.083451e-01 -4.928355e-01   \n",
       "50%    1.999345e-01 -8.154339e-02  1.362031e-01 -1.843426e-02 -2.351612e-01   \n",
       "75%    7.583301e-01  7.393970e-01  8.359633e-01  5.664901e-01  2.666255e-01   \n",
       "max    2.076082e+00  2.253808e+00  2.025845e+00  5.495853e+00  4.133999e+00   \n",
       "\n",
       "        NASDAQ.ADSK   NASDAQ.AKAM   NASDAQ.ALXN   NASDAQ.AMAT    NASDAQ.AMD  \\\n",
       "count  4.126600e+04  4.126600e+04  4.126600e+04  4.126600e+04  4.126600e+04   \n",
       "mean   3.066089e-15 -5.115296e-15  1.369503e-15 -7.269529e-15  8.255821e-16   \n",
       "std    1.000012e+00  1.000012e+00  1.000012e+00  1.000012e+00  1.000012e+00   \n",
       "min   -2.129851e+00 -1.291791e+00 -2.375708e+00 -2.381811e+00 -2.347862e+00   \n",
       "25%   -8.710215e-01 -7.146138e-01 -5.360141e-01 -6.542592e-01 -6.391139e-01   \n",
       "50%    4.069781e-01 -2.864064e-01  5.677605e-02  1.462137e-01  1.326443e-01   \n",
       "75%    7.978329e-01  2.763101e-01  8.209866e-01  6.710136e-01  7.210079e-01   \n",
       "max    1.732903e+00  2.413313e+00  1.768047e+00  1.853345e+00  2.579896e+00   \n",
       "\n",
       "       ...      NYSE.WYN      NYSE.XEC      NYSE.XEL       NYSE.XL  \\\n",
       "count  ...  4.126600e+04  4.126600e+04  4.126600e+04  4.126600e+04   \n",
       "mean   ...  5.050638e-15  2.692168e-16  6.184760e-16  5.455821e-15   \n",
       "std    ...  1.000012e+00  1.000012e+00  1.000012e+00  1.000012e+00   \n",
       "min    ... -2.685318e+00 -1.435966e+00 -1.706681e+00 -2.288689e+00   \n",
       "25%    ... -3.662806e-01 -9.174191e-01 -1.000647e+00 -6.351569e-01   \n",
       "50%    ...  2.416582e-01 -4.790114e-01  9.652339e-02  9.099726e-02   \n",
       "75%    ...  7.645964e-01  1.159097e+00  7.064308e-01  7.734072e-01   \n",
       "max    ...  1.558243e+00  1.803537e+00  1.985911e+00  2.429855e+00   \n",
       "\n",
       "           NYSE.XOM      NYSE.XRX      NYSE.XYL      NYSE.YUM      NYSE.ZBH  \\\n",
       "count  4.126600e+04  4.126600e+04  4.126600e+04  4.126600e+04  4.126600e+04   \n",
       "mean  -3.959363e-15 -6.627374e-15  2.192412e-15 -4.732720e-15  3.360274e-15   \n",
       "std    1.000012e+00  1.000012e+00  1.000012e+00  1.000012e+00  1.000012e+00   \n",
       "min   -2.566367e+00 -1.081661e+00 -1.622671e+00 -2.124175e+00 -2.015964e+00   \n",
       "25%   -3.066839e-01 -1.048717e+00 -8.257965e-01 -6.557069e-01 -6.854849e-01   \n",
       "50%    1.984856e-01  7.349816e-01 -1.962375e-01  4.239759e-01 -1.379552e-01   \n",
       "75%    6.939047e-01  9.557512e-01  7.367575e-01  7.409470e-01  8.162089e-01   \n",
       "max    1.545604e+00  1.166252e+00  2.151847e+00  1.327839e+00  2.144905e+00   \n",
       "\n",
       "           NYSE.ZTS  \n",
       "count  4.126600e+04  \n",
       "mean   2.275337e-14  \n",
       "std    1.000012e+00  \n",
       "min   -2.355612e+00  \n",
       "25%   -1.684791e-01  \n",
       "50%    4.188199e-01  \n",
       "75%    7.039839e-01  \n",
       "max    1.092409e+00  \n",
       "\n",
       "[8 rows x 500 columns]"
      ]
     },
     "execution_count": 10,
     "metadata": {},
     "output_type": "execute_result"
    }
   ],
   "source": [
    "df.describe()"
   ]
  },
  {
   "cell_type": "code",
   "execution_count": 11,
   "metadata": {},
   "outputs": [
    {
     "data": {
      "image/png": "[encoded data removed]",
      "text/plain": [
       "<Figure size 432x288 with 1 Axes>"
      ]
     },
     "metadata": {
      "needs_background": "light"
     },
     "output_type": "display_data"
    }
   ],
   "source": [
    "pca = PCA().fit(df)\n",
    "plt.plot(np.cumsum(pca.explained_variance_ratio_))\n",
    "plt.xlabel('number of components')\n",
    "plt.ylabel('cumulative explained variance')\n",
    "plt.show()"
   ]
  },
  {
   "cell_type": "code",
   "execution_count": 12,
   "metadata": {},
   "outputs": [
    {
     "data": {
      "text/plain": [
       "PCA(n_components=2)"
      ]
     },
     "execution_count": 12,
     "metadata": {},
     "output_type": "execute_result"
    }
   ],
   "source": [
    "pca = PCA(n_components=2)\n",
    "pca.fit(df)"
   ]
  },
  {
   "cell_type": "code",
   "execution_count": 13,
   "metadata": {},
   "outputs": [
    {
     "name": "stdout",
     "output_type": "stream",
     "text": [
      "(41266, 2)\n"
     ]
    }
   ],
   "source": [
    "X_transformed = pca.transform(df)\n",
    "print(X_transformed.shape)"
   ]
  },
  {
   "cell_type": "code",
   "execution_count": 14,
   "metadata": {},
   "outputs": [
    {
     "name": "stdout",
     "output_type": "stream",
     "text": [
      "(41266, 500)\n"
     ]
    }
   ],
   "source": [
    "X_retransformed = pca.inverse_transform(X_transformed)\n",
    "print(X_retransformed.shape)"
   ]
  },
  {
   "cell_type": "code",
   "execution_count": 15,
   "metadata": {},
   "outputs": [
    {
     "data": {
      "image/png": "[encoded data removed]",
      "text/plain": [
       "<Figure size 432x288 with 1 Axes>"
      ]
     },
     "metadata": {
      "needs_background": "light"
     },
     "output_type": "display_data"
    },
    {
     "data": {
      "text/plain": [
       "<Figure size 720x720 with 0 Axes>"
      ]
     },
     "metadata": {},
     "output_type": "display_data"
    }
   ],
   "source": [
    "wcss=[]\n",
    "for i in range(1, 30):\n",
    "    kmeans = KMeans(n_clusters = i, init = 'k-means++', random_state = 0)\n",
    "    kmeans.fit(X_transformed)\n",
    "    wcss.append(kmeans.inertia_)\n",
    "plt.plot(range(1, 30), wcss)\n",
    "plt.title('The Elbow Method')\n",
    "plt.xlabel('Number of clusters')\n",
    "plt.ylabel('Mean Squared Errors')\n",
    "plt.figure(figsize=(10,10))\n",
    "plt.show()\n"
   ]
  },
  {
   "cell_type": "code",
   "execution_count": 16,
   "metadata": {},
   "outputs": [],
   "source": [
    "k_means = KMeans(n_clusters=5,random_state=0,init='k-means++')\n",
    "k_means.fit(X_transformed)\n",
    "y_kmeans = kmeans.fit_predict(X_transformed)\n",
    "labels = k_means.labels_"
   ]
  },
  {
   "cell_type": "code",
   "execution_count": 17,
   "metadata": {},
   "outputs": [
    {
     "data": {
      "image/png": "[encoded data removed]",
      "text/plain": [
       "<Figure size 432x288 with 1 Axes>"
      ]
     },
     "metadata": {
      "needs_background": "light"
     },
     "output_type": "display_data"
    }
   ],
   "source": [
    "plt.scatter(X_transformed[y_kmeans == 0, 0], X_transformed[y_kmeans == 0, 1], s = 100, c = 'red', label = 'Cluster 1')\n",
    "plt.scatter(X_transformed[y_kmeans == 1, 0], X_transformed[y_kmeans == 1, 1], s = 100, c = 'blue', label = 'Cluster 2')\n",
    "plt.scatter(X_transformed[y_kmeans == 2, 0], X_transformed[y_kmeans == 2, 1], s = 100, c = 'green', label = 'Cluster 3')\n",
    "plt.scatter(X_transformed[y_kmeans == 3, 0], X_transformed[y_kmeans == 3, 1], s = 100, c = 'cyan', label = 'Cluster 4')\n",
    "plt.scatter(X_transformed[y_kmeans == 4, 0], X_transformed[y_kmeans == 4, 1], s = 100, c = 'magenta', label = 'Cluster 5')\n",
    "#plt.scatter(kmeans.cluster_centers_[:, 0], kmeans.cluster_centers_[:, 1], s = 300, c = 'yellow', label = 'Centroids')\n",
    "plt.title('Clusters of stocks')\n",
    "plt.xlabel('Principal Component (1)')\n",
    "plt.ylabel('Principal Component (2)')\n",
    "plt.legend()\n",
    "plt.show()"
   ]
  },
  {
   "cell_type": "code",
   "execution_count": 18,
   "metadata": {},
   "outputs": [
    {
     "data": {
      "text/html": [
       "<div>\n",
       "<style scoped>\n",
       "    .dataframe tbody tr th:only-of-type {\n",
       "        vertical-align: middle;\n",
       "    }\n",
       "\n",
       "    .dataframe tbody tr th {\n",
       "        vertical-align: top;\n",
       "    }\n",
       "\n",
       "    .dataframe thead th {\n",
       "        text-align: right;\n",
       "    }\n",
       "</style>\n",
       "<table border=\"1\" class=\"dataframe\">\n",
       "  <thead>\n",
       "    <tr style=\"text-align: right;\">\n",
       "      <th></th>\n",
       "      <th>NASDAQ.AAL</th>\n",
       "      <th>NASDAQ.AAPL</th>\n",
       "      <th>NASDAQ.ADBE</th>\n",
       "      <th>NASDAQ.ADI</th>\n",
       "      <th>NASDAQ.ADP</th>\n",
       "      <th>NASDAQ.ADSK</th>\n",
       "      <th>NASDAQ.AKAM</th>\n",
       "      <th>NASDAQ.ALXN</th>\n",
       "      <th>NASDAQ.AMAT</th>\n",
       "      <th>NASDAQ.AMD</th>\n",
       "      <th>...</th>\n",
       "      <th>NYSE.WYN</th>\n",
       "      <th>NYSE.XEC</th>\n",
       "      <th>NYSE.XEL</th>\n",
       "      <th>NYSE.XL</th>\n",
       "      <th>NYSE.XOM</th>\n",
       "      <th>NYSE.XRX</th>\n",
       "      <th>NYSE.XYL</th>\n",
       "      <th>NYSE.YUM</th>\n",
       "      <th>NYSE.ZBH</th>\n",
       "      <th>NYSE.ZTS</th>\n",
       "    </tr>\n",
       "  </thead>\n",
       "  <tbody>\n",
       "    <tr>\n",
       "      <th>0</th>\n",
       "      <td>-0.039258</td>\n",
       "      <td>-0.041064</td>\n",
       "      <td>-0.062908</td>\n",
       "      <td>-0.009788</td>\n",
       "      <td>-0.035866</td>\n",
       "      <td>-0.054668</td>\n",
       "      <td>0.050356</td>\n",
       "      <td>-0.035396</td>\n",
       "      <td>-0.044060</td>\n",
       "      <td>-0.014671</td>\n",
       "      <td>...</td>\n",
       "      <td>-0.049413</td>\n",
       "      <td>0.057001</td>\n",
       "      <td>-0.054623</td>\n",
       "      <td>-0.050608</td>\n",
       "      <td>0.047199</td>\n",
       "      <td>-0.057897</td>\n",
       "      <td>-0.061392</td>\n",
       "      <td>-0.062477</td>\n",
       "      <td>0.002538</td>\n",
       "      <td>-0.051698</td>\n",
       "    </tr>\n",
       "    <tr>\n",
       "      <th>1</th>\n",
       "      <td>-0.064284</td>\n",
       "      <td>0.033861</td>\n",
       "      <td>0.001861</td>\n",
       "      <td>-0.032453</td>\n",
       "      <td>0.043511</td>\n",
       "      <td>-0.029519</td>\n",
       "      <td>0.016178</td>\n",
       "      <td>0.058286</td>\n",
       "      <td>-0.052667</td>\n",
       "      <td>0.012376</td>\n",
       "      <td>...</td>\n",
       "      <td>-0.058941</td>\n",
       "      <td>0.030277</td>\n",
       "      <td>0.013643</td>\n",
       "      <td>-0.040769</td>\n",
       "      <td>-0.052795</td>\n",
       "      <td>0.010238</td>\n",
       "      <td>0.031466</td>\n",
       "      <td>-0.020406</td>\n",
       "      <td>-0.081229</td>\n",
       "      <td>-0.059501</td>\n",
       "    </tr>\n",
       "  </tbody>\n",
       "</table>\n",
       "<p>2 rows × 500 columns</p>\n",
       "</div>"
      ],
      "text/plain": [
       "   NASDAQ.AAL  NASDAQ.AAPL  NASDAQ.ADBE  NASDAQ.ADI  NASDAQ.ADP  NASDAQ.ADSK  \\\n",
       "0   -0.039258    -0.041064    -0.062908   -0.009788   -0.035866    -0.054668   \n",
       "1   -0.064284     0.033861     0.001861   -0.032453    0.043511    -0.029519   \n",
       "\n",
       "   NASDAQ.AKAM  NASDAQ.ALXN  NASDAQ.AMAT  NASDAQ.AMD  ...  NYSE.WYN  NYSE.XEC  \\\n",
       "0     0.050356    -0.035396    -0.044060   -0.014671  ... -0.049413  0.057001   \n",
       "1     0.016178     0.058286    -0.052667    0.012376  ... -0.058941  0.030277   \n",
       "\n",
       "   NYSE.XEL   NYSE.XL  NYSE.XOM  NYSE.XRX  NYSE.XYL  NYSE.YUM  NYSE.ZBH  \\\n",
       "0 -0.054623 -0.050608  0.047199 -0.057897 -0.061392 -0.062477  0.002538   \n",
       "1  0.013643 -0.040769 -0.052795  0.010238  0.031466 -0.020406 -0.081229   \n",
       "\n",
       "   NYSE.ZTS  \n",
       "0 -0.051698  \n",
       "1 -0.059501  \n",
       "\n",
       "[2 rows x 500 columns]"
      ]
     },
     "execution_count": 18,
     "metadata": {},
     "output_type": "execute_result"
    }
   ],
   "source": [
    "df_comp = pd.DataFrame(pca.components_,columns=data.columns)\n",
    "df_comp.head()"
   ]
  },
  {
   "cell_type": "code",
   "execution_count": 20,
   "metadata": {},
   "outputs": [
    {
     "data": {
      "text/plain": [
       "<AxesSubplot:>"
      ]
     },
     "execution_count": 20,
     "metadata": {},
     "output_type": "execute_result"
    },
    {
     "data": {
      "image/png": "[encoded data removed]",
      "text/plain": [
       "<Figure size 720x720 with 2 Axes>"
      ]
     },
     "metadata": {
      "needs_background": "light"
     },
     "output_type": "display_data"
    }
   ],
   "source": [
    "plt.figure(figsize=(10,10))\n",
    "sns.heatmap(df_comp)"
   ]
  },
  {
   "cell_type": "code",
   "execution_count": 22,
   "metadata": {},
   "outputs": [
    {
     "data": {
      "text/plain": [
       "[1, 3, 4, 0, 2]"
      ]
     },
     "execution_count": 22,
     "metadata": {},
     "output_type": "execute_result"
    }
   ],
   "source": [
    "data['labels']=labels\n",
    "data['labels'].unique().tolist()"
   ]
  },
  {
   "cell_type": "code",
   "execution_count": 23,
   "metadata": {},
   "outputs": [
    {
     "name": "stdout",
     "output_type": "stream",
     "text": [
      "\n",
      " For lablel 1 the number of similar stock performances is : 5874 \n",
      "\n",
      " For lablel 3 the number of similar stock performances is : 8622 \n",
      "\n",
      " For lablel 4 the number of similar stock performances is : 11155 \n",
      "\n",
      " For lablel 0 the number of similar stock performances is : 5877 \n",
      "\n",
      " For lablel 2 the number of similar stock performances is : 9738 \n"
     ]
    }
   ],
   "source": [
    "for i in data['labels'].unique().tolist():\n",
    "    count = data[data['labels'] == i].shape[0]\n",
    "    print('\\n For lablel {} the number of similar stock performances is : {} '.format(i,count))"
   ]
  },
  {
   "cell_type": "code",
   "execution_count": 24,
   "metadata": {},
   "outputs": [
    {
     "name": "stderr",
     "output_type": "stream",
     "text": [
      "C:\\Users\\Admin\\anaconda3\\lib\\site-packages\\sklearn\\manifold\\_spectral_embedding.py:236: UserWarning: Graph is not fully connected, spectral embedding may not work as expected.\n",
      "  warnings.warn(\"Graph is not fully connected, spectral embedding\"\n"
     ]
    },
    {
     "data": {
      "text/plain": [
       "SpectralClustering(affinity='nearest_neighbors', n_clusters=5)"
      ]
     },
     "execution_count": 24,
     "metadata": {},
     "output_type": "execute_result"
    }
   ],
   "source": [
    "from  sklearn.cluster import SpectralClustering\n",
    "xn = SpectralClustering(n_clusters = 5, affinity = 'nearest_neighbors')\n",
    "xn.fit(X_transformed)"
   ]
  },
  {
   "cell_type": "code",
   "execution_count": 25,
   "metadata": {},
   "outputs": [
    {
     "name": "stderr",
     "output_type": "stream",
     "text": [
      "C:\\Users\\Admin\\anaconda3\\lib\\site-packages\\sklearn\\manifold\\_spectral_embedding.py:236: UserWarning: Graph is not fully connected, spectral embedding may not work as expected.\n",
      "  warnings.warn(\"Graph is not fully connected, spectral embedding\"\n"
     ]
    },
    {
     "data": {
      "text/plain": [
       "array([2, 2, 2, ..., 0, 0, 0])"
      ]
     },
     "execution_count": 25,
     "metadata": {},
     "output_type": "execute_result"
    }
   ],
   "source": [
    "xn.fit_predict(X_transformed)"
   ]
  },
  {
   "cell_type": "code",
   "execution_count": 26,
   "metadata": {},
   "outputs": [
    {
     "data": {
      "text/plain": [
       "(41266, array([0, 1, 2, 3, 4]))"
      ]
     },
     "execution_count": 26,
     "metadata": {},
     "output_type": "execute_result"
    }
   ],
   "source": [
    "y_labels = xn.labels_\n",
    "len(y_labels),np.unique(y_labels)"
   ]
  },
  {
   "cell_type": "code",
   "execution_count": 27,
   "metadata": {},
   "outputs": [
    {
     "data": {
      "image/png": "[encoded data removed]",
      "text/plain": [
       "<Figure size 432x288 with 1 Axes>"
      ]
     },
     "metadata": {
      "needs_background": "light"
     },
     "output_type": "display_data"
    }
   ],
   "source": [
    "X = X_transformed\n",
    "plt.scatter(X[y_labels == 0, 0], X[y_labels == 0, 1], s = 100, c = 'red', label = 'Cluster 1')\n",
    "plt.scatter(X[y_labels == 1, 0], X[y_labels == 1, 1], s = 100, c = 'blue', label = 'Cluster 2')\n",
    "plt.scatter(X[y_labels == 2, 0], X[y_labels == 2, 1], s = 100, c = 'green', label = 'Cluster 3')\n",
    "plt.scatter(X[y_labels == 3, 0], X[y_labels == 3, 1], s = 100, c = 'cyan', label = 'Cluster 4')\n",
    "plt.scatter(X[y_labels == 4, 0], X[y_labels == 4, 1], s = 100, c = 'magenta', label = 'Cluster 5')\n",
    "plt.title('Clusters of customers')\n",
    "plt.xlabel('Annual Income (k$)')\n",
    "plt.ylabel('Spending Score (1-100)')\n",
    "plt.legend()\n",
    "plt.show()\n"
   ]
  },
  {
   "cell_type": "code",
   "execution_count": null,
   "metadata": {},
   "outputs": [],
   "source": []
  }
 ],
 "metadata": {
  "kernelspec": {
   "display_name": "Python 3",
   "language": "python",
   "name": "python3"
  },
  "language_info": {
   "codemirror_mode": {
    "name": "ipython",
    "version": 3
   },
   "file_extension": ".py",
   "mimetype": "text/x-python",
   "name": "python",
   "nbconvert_exporter": "python",
   "pygments_lexer": "ipython3",
   "version": "3.7.9"
  }
 },
 "nbformat": 4,
 "nbformat_minor": 4
}
